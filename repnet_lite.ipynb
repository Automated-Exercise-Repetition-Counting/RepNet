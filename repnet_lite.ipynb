{
 "cells": [
  {
   "cell_type": "code",
   "execution_count": 60,
   "metadata": {},
   "outputs": [
    {
     "name": "stdout",
     "output_type": "stream",
     "text": [
      "2.8.0\n"
     ]
    }
   ],
   "source": [
    "import tensorflow as tf\n",
    "\n",
    "# show tflite version\n",
    "print(tf.__version__)\n"
   ]
  },
  {
   "cell_type": "code",
   "execution_count": 71,
   "metadata": {},
   "outputs": [],
   "source": [
    "interpreter = tf.lite.Interpreter(model_path=\"tflite/repnet.tflite\")\n",
    "input_details = interpreter.get_input_details()\n",
    "\n",
    "interpreter.resize_tensor_input(\n",
    "    input_details[0]['index'], (1, 64, 112, 112, 3), strict=True)\n",
    "\n",
    "interpreter.allocate_tensors()"
   ]
  },
  {
   "cell_type": "code",
   "execution_count": 72,
   "metadata": {},
   "outputs": [
    {
     "name": "stdout",
     "output_type": "stream",
     "text": [
      "[ -1  64 112 112   3]\n"
     ]
    }
   ],
   "source": [
    "i = interpreter.get_input_details()[0]\n",
    "\n",
    "print(i['shape_signature'])"
   ]
  },
  {
   "cell_type": "code",
   "execution_count": 63,
   "metadata": {},
   "outputs": [
    {
     "name": "stdout",
     "output_type": "stream",
     "text": [
      "{'raw_scores': 545, 'period_scores': 302, 'within_period_scores': 579}\n"
     ]
    }
   ],
   "source": [
    "o = interpreter.get_output_details()\n",
    "\n",
    "# name_to_index = {'raw_scores': 32, 'within_period_scores': 1, 'period_scores': 512}\n",
    "\n",
    "name_to_index = {}\n",
    "\n",
    "for t in o:\n",
    "    # get the dimension of the final axis\n",
    "    dim = t['shape_signature'][-1]\n",
    "\n",
    "    if dim == 32:\n",
    "        name_to_index['raw_scores'] = t['index']\n",
    "    elif dim == 1:\n",
    "        name_to_index['within_period_scores'] = t['index']\n",
    "    elif dim == 512:\n",
    "        name_to_index['period_scores'] = t['index']\n",
    "    else:\n",
    "        raise ValueError(\"Unknown dimension\")\n",
    "\n",
    "\n",
    "print(name_to_index)\n",
    "# raw_scores: [1 64 32]\n",
    "# within_period_scores: [1 64 1]\n",
    "# period_scores: [1 61 512]"
   ]
  },
  {
   "cell_type": "code",
   "execution_count": 73,
   "metadata": {},
   "outputs": [],
   "source": [
    "def get_counts(interpreter, frames, strides, batch_size,\n",
    "               threshold,\n",
    "               within_period_threshold):\n",
    "  \"\"\"Pass frames through model and conver period predictions to count.\"\"\"\n",
    "  seq_len = len(frames)\n",
    "  raw_scores_list = []\n",
    "  scores = []\n",
    "  within_period_scores_list = []\n",
    "\n",
    "  model_num_frames = 64\n",
    "  model_image_size = 112\n",
    "\n",
    "  # frames = model_preprocess(frames)\n",
    "  imgs = frames\n",
    "  imgs = tf.cast(imgs, tf.float32)\n",
    "  imgs -= 127.5\n",
    "  imgs /= 127.5\n",
    "  imgs = tf.image.resize(imgs, (model_image_size, model_image_size))\n",
    "  frames = imgs\n",
    "\n",
    "  for stride in strides:\n",
    "    num_batches = int(np.ceil(seq_len/model_num_frames/stride/batch_size))\n",
    "    raw_scores_per_stride = []\n",
    "    within_period_score_stride = []\n",
    "    for batch_idx in range(num_batches):\n",
    "      idxes = tf.range(batch_idx*batch_size*model_num_frames*stride,\n",
    "                       (batch_idx+1)*batch_size*model_num_frames*stride,\n",
    "                       stride)\n",
    "      idxes = tf.clip_by_value(idxes, 0, seq_len-1)\n",
    "      curr_frames = tf.gather(frames, idxes)\n",
    "      curr_frames = tf.reshape(\n",
    "          curr_frames,\n",
    "          [batch_size, model_num_frames, model_image_size, model_image_size, 3])\n",
    "\n",
    "    #   interpreter.get_input_details()[0]['value'] = curr_frames\n",
    "      interpreter.set_tensor(i['index'], curr_frames)\n",
    "      interpreter.invoke()\n",
    "\n",
    "      raw_scores = interpreter.get_tensor(name_to_index['raw_scores'])\n",
    "      within_period_scores = interpreter.get_tensor(name_to_index['within_period_scores'])\n",
    "\n",
    "      raw_scores_per_stride.append(np.reshape(raw_scores,\n",
    "                                              [-1, model_num_frames//2]))\n",
    "      within_period_score_stride.append(np.reshape(within_period_scores,\n",
    "                                                   [-1, 1]))\n",
    "    raw_scores_per_stride = np.concatenate(raw_scores_per_stride, axis=0)\n",
    "    raw_scores_list.append(raw_scores_per_stride)\n",
    "    within_period_score_stride = np.concatenate(\n",
    "        within_period_score_stride, axis=0)\n",
    "    pred_score, within_period_score_stride = get_score(\n",
    "        raw_scores_per_stride, within_period_score_stride)\n",
    "    scores.append(pred_score)\n",
    "    within_period_scores_list.append(within_period_score_stride)\n",
    "\n",
    "  # Stride chooser\n",
    "  argmax_strides = np.argmax(scores)\n",
    "  chosen_stride = strides[argmax_strides]\n",
    "  raw_scores = np.repeat(\n",
    "      raw_scores_list[argmax_strides], chosen_stride, axis=0)[:seq_len]\n",
    "  within_period = np.repeat(\n",
    "      within_period_scores_list[argmax_strides], chosen_stride,\n",
    "      axis=0)[:seq_len]\n",
    "  within_period_binary = np.asarray(within_period > within_period_threshold)\n",
    "\n",
    "  # Count each frame. More noisy but adapts to changes in speed.\n",
    "  pred_score = tf.reduce_mean(within_period)\n",
    "  per_frame_periods = tf.argmax(raw_scores, axis=-1) + 1\n",
    "  per_frame_counts = tf.where(\n",
    "      tf.math.less(per_frame_periods, 3),\n",
    "      0.0,\n",
    "      tf.math.divide(1.0,\n",
    "                      tf.cast(chosen_stride * per_frame_periods, tf.float32)),\n",
    "  )\n",
    "\n",
    "  per_frame_counts *= np.asarray(within_period_binary)\n",
    "\n",
    "  pred_period = seq_len/np.sum(per_frame_counts)\n",
    "\n",
    "  if pred_score < threshold:\n",
    "    print('No repetitions detected in video as score '\n",
    "          '%0.2f is less than threshold %0.2f.'%(pred_score, threshold))\n",
    "    per_frame_counts = np.asarray(len(per_frame_counts) * [0.])\n",
    "\n",
    "  return (pred_period, pred_score, within_period,\n",
    "          per_frame_counts, chosen_stride)"
   ]
  },
  {
   "cell_type": "code",
   "execution_count": 74,
   "metadata": {},
   "outputs": [],
   "source": [
    "def get_score(period_score, within_period_score):\n",
    "  \"\"\"Combine the period and periodicity scores.\"\"\"\n",
    "  within_period_score = tf.nn.sigmoid(within_period_score)[:, 0]\n",
    "  per_frame_periods = tf.argmax(period_score, axis=-1) + 1\n",
    "  pred_period_conf = tf.reduce_max(\n",
    "      tf.nn.softmax(period_score, axis=-1), axis=-1)\n",
    "  pred_period_conf = tf.where(\n",
    "      tf.math.less(per_frame_periods, 3), 0.0, pred_period_conf)\n",
    "  within_period_score *= pred_period_conf\n",
    "  within_period_score = np.sqrt(within_period_score)\n",
    "  pred_score = tf.reduce_mean(within_period_score)\n",
    "  return pred_score, within_period_score"
   ]
  },
  {
   "cell_type": "code",
   "execution_count": 75,
   "metadata": {},
   "outputs": [],
   "source": [
    "# FPS while recording video from webcam.\n",
    "WEBCAM_FPS = 16#@param {type:\"integer\"}\n",
    "\n",
    "# Time in seconds to record video on webcam. \n",
    "RECORDING_TIME_IN_SECONDS = 8. #@param {type:\"number\"}\n",
    "\n",
    "# Threshold to consider periodicity in entire video.\n",
    "THRESHOLD = 0.2#@param {type:\"number\"}\n",
    "\n",
    "# Threshold to consider periodicity for individual frames in video.\n",
    "WITHIN_PERIOD_THRESHOLD = 0.5#@param {type:\"number\"}\n",
    "\n",
    "# Use this setting for better results when it is \n",
    "# known action is repeating at constant speed.\n",
    "CONSTANT_SPEED = False#@param {type:\"boolean\"}\n",
    "\n",
    "# Use median filtering in time to ignore noisy frames.\n",
    "MEDIAN_FILTER = True#@param {type:\"boolean\"}\n",
    "\n",
    "# Use this setting for better results when it is \n",
    "# known the entire video is periodic/reapeating and\n",
    "# has no aperiodic frames.\n",
    "FULLY_PERIODIC = False#@param {type:\"boolean\"}\n",
    "\n",
    "# Plot score in visualization video.\n",
    "PLOT_SCORE = False#@param {type:\"boolean\"}\n",
    "\n",
    "# Visualization video's FPS.\n",
    "IZ_FPS = 30#@param {type:\"integer\"}"
   ]
  },
  {
   "cell_type": "code",
   "execution_count": 76,
   "metadata": {},
   "outputs": [],
   "source": [
    "# import cv2 \n",
    "# import numpy as np\n",
    "\n",
    "\n",
    "# def read_video(video_filename, width=224, height=224):\n",
    "#   \"\"\"Read video from file.\"\"\"\n",
    "#   cap = cv2.VideoCapture(video_filename)\n",
    "#   fps = cap.get(cv2.CAP_PROP_FPS)\n",
    "#   frames = []\n",
    "#   if cap.isOpened():\n",
    "#     while True:\n",
    "#       success, frame_bgr = cap.read()\n",
    "#       if not success:\n",
    "#         break\n",
    "#       frame_rgb = cv2.cvtColor(frame_bgr, cv2.COLOR_BGR2RGB)\n",
    "#       frame_rgb = cv2.resize(frame_rgb, (width, height))\n",
    "#       frames.append(frame_rgb)\n",
    "#   frames = np.asarray(frames)\n",
    "#   return frames, fps"
   ]
  },
  {
   "cell_type": "code",
   "execution_count": 77,
   "metadata": {},
   "outputs": [],
   "source": [
    "# imgs, vid_fps = read_video(\"data/hummingbird.gif\")"
   ]
  },
  {
   "cell_type": "code",
   "execution_count": 78,
   "metadata": {},
   "outputs": [],
   "source": [
    "# np.save(\"data/hummingbird.npy\", imgs)\n",
    "import numpy as np\n",
    "imgs = np.load(\"data/hummingbird.npy\")"
   ]
  },
  {
   "cell_type": "code",
   "execution_count": 80,
   "metadata": {},
   "outputs": [
    {
     "name": "stdout",
     "output_type": "stream",
     "text": [
      "Current frame shape (1, 64, 112, 112, 3)\n",
      "Current frame shape (1, 64, 112, 112, 3)\n",
      "Current frame shape (1, 64, 112, 112, 3)\n",
      "Current frame shape (1, 64, 112, 112, 3)\n",
      "Current frame shape (1, 64, 112, 112, 3)\n",
      "Current frame shape (1, 64, 112, 112, 3)\n",
      "Current frame shape (1, 64, 112, 112, 3)\n",
      "Current frame shape (1, 64, 112, 112, 3)\n",
      "Current frame shape (1, 64, 112, 112, 3)\n",
      "Current frame shape (1, 64, 112, 112, 3)\n",
      "Current frame shape (1, 64, 112, 112, 3)\n",
      "Current frame shape (1, 64, 112, 112, 3)\n"
     ]
    }
   ],
   "source": [
    "(pred_period, pred_score, within_period,\n",
    " per_frame_counts, chosen_stride) = get_counts(\n",
    "     interpreter,\n",
    "     imgs,\n",
    "     strides=[1,2,3,4],\n",
    "     batch_size=1,\n",
    "     threshold=THRESHOLD,\n",
    "     within_period_threshold=WITHIN_PERIOD_THRESHOLD)"
   ]
  },
  {
   "cell_type": "code",
   "execution_count": 83,
   "metadata": {},
   "outputs": [
    {
     "name": "stdout",
     "output_type": "stream",
     "text": [
      "Predicted period: 25.80\n",
      "Predicted score: 0.88\n",
      "Chosen stride: 1\n",
      "Predicted counts: 10.076630592346191\n"
     ]
    }
   ],
   "source": [
    "print('Predicted period: %0.2f'%pred_period)\n",
    "print('Predicted score: %0.2f'%pred_score)\n",
    "print('Chosen stride: %d'%chosen_stride)\n",
    "# print('Per frame counts: %s'%per_frame_counts)\n",
    "print(f'Predicted counts: {sum(per_frame_counts)}')"
   ]
  }
 ],
 "metadata": {
  "kernelspec": {
   "display_name": "Python 3.9.12 ('tfLiteRepnet')",
   "language": "python",
   "name": "python3"
  },
  "language_info": {
   "codemirror_mode": {
    "name": "ipython",
    "version": 3
   },
   "file_extension": ".py",
   "mimetype": "text/x-python",
   "name": "python",
   "nbconvert_exporter": "python",
   "pygments_lexer": "ipython3",
   "version": "3.9.12"
  },
  "orig_nbformat": 4,
  "vscode": {
   "interpreter": {
    "hash": "39f49a9f9f4f0b06547e0b9a44ce15b6ba54e4f2eb601e75e0c0973e30e1e983"
   }
  }
 },
 "nbformat": 4,
 "nbformat_minor": 2
}

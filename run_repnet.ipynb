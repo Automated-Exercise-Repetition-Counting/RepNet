{
 "cells": [
  {
   "cell_type": "code",
   "execution_count": 12,
   "metadata": {},
   "outputs": [],
   "source": [
    "import urllib.request\n",
    "import os\n",
    "import repnet"
   ]
  },
  {
   "cell_type": "code",
   "execution_count": 13,
   "metadata": {},
   "outputs": [],
   "source": [
    "# CONSTANTS\n",
    "PATH_TO_CKPT = \"./model\"\n",
    "VIDEO_PATH = \"./data/IMG_2167.MOV\"\n",
    "TEMP_DIR = \"./tmp\""
   ]
  },
  {
   "cell_type": "code",
   "execution_count": 3,
   "metadata": {},
   "outputs": [],
   "source": [
    "## PARAMS\n",
    "\n",
    "# FPS while recording video from webcam.\n",
    "WEBCAM_FPS = 16\n",
    "\n",
    "# Time in seconds to record video on webcam.\n",
    "RECORDING_TIME_IN_SECONDS = 8\n",
    "\n",
    "# Threshold to consider periodicity in entire video.\n",
    "THRESHOLD = 0.2\n",
    "\n",
    "# Threshold to consider periodicity for individual frames in video.\n",
    "WITHIN_PERIOD_THRESHOLD = 0.5\n",
    "\n",
    "# Use this setting for better results when it is\n",
    "# known action is repeating at constant speed.\n",
    "CONSTANT_SPEED = False\n",
    "\n",
    "# Use median filtering in time to ignore noisy frames.\n",
    "MEDIAN_FILTER = True\n",
    "\n",
    "# Use this setting for better results when it is\n",
    "# known the entire video is periodic/reapeating and\n",
    "# has no aperiodic frames.\n",
    "FULLY_PERIODIC = False\n",
    "\n",
    "# Plot score in visualization video.\n",
    "PLOT_SCORE = False\n",
    "\n",
    "# Visualization video's FPS.\n",
    "VIZ_FPS = 30"
   ]
  },
  {
   "cell_type": "code",
   "execution_count": 4,
   "metadata": {},
   "outputs": [],
   "source": [
    "def load_trained_repnet():\n",
    "    download_urls = [\n",
    "        \"https://storage.googleapis.com/repnet_ckpt/checkpoint\",\n",
    "        \"https://storage.googleapis.com/repnet_ckpt/ckpt-88.data-00000-of-00002\",\n",
    "        \"https://storage.googleapis.com/repnet_ckpt/ckpt-88.data-00001-of-00002\",\n",
    "        \"https://storage.googleapis.com/repnet_ckpt/ckpt-88.index\",\n",
    "    ]\n",
    "\n",
    "    if not os.path.exists(PATH_TO_CKPT):\n",
    "        os.makedirs(PATH_TO_CKPT)\n",
    "\n",
    "    # download all checkpoint files from google storage\n",
    "    for url in download_urls:\n",
    "        file_path = os.path.join(PATH_TO_CKPT, url.split(\"/\")[-1])\n",
    "        if not os.path.exists(file_path):\n",
    "            print(\"Downloading %s\" % url)\n",
    "            urllib.request.urlretrieve(url, filename=file_path)"
   ]
  },
  {
   "cell_type": "code",
   "execution_count": 5,
   "metadata": {},
   "outputs": [],
   "source": [
    "def run_repnet(model, imgs):\n",
    "    print(\"Running RepNet...\")\n",
    "    (\n",
    "        pred_period,\n",
    "        pred_score,\n",
    "        within_period,\n",
    "        per_frame_counts,\n",
    "        chosen_stride,\n",
    "    ) = repnet.get_counts(\n",
    "        model,\n",
    "        imgs,\n",
    "        strides=[1, 2, 3, 4],\n",
    "        batch_size=20,\n",
    "        threshold=THRESHOLD,\n",
    "        within_period_threshold=WITHIN_PERIOD_THRESHOLD,\n",
    "        constant_speed=CONSTANT_SPEED,\n",
    "        median_filter=MEDIAN_FILTER,\n",
    "        fully_periodic=FULLY_PERIODIC,\n",
    "    )\n",
    "    return (\n",
    "        pred_period,\n",
    "        pred_score,\n",
    "        within_period,\n",
    "        per_frame_counts,\n",
    "        chosen_stride,\n",
    "    )\n",
    "\n",
    "\n",
    "def visualise_results(imgs, model_params):\n",
    "    (\n",
    "        pred_period,\n",
    "        pred_score,\n",
    "        within_period,\n",
    "        per_frame_counts,\n",
    "        chosen_stride,\n",
    "    ) = model_params\n",
    "    print(\"Visualizing results...\")\n",
    "    repnet.viz_reps(\n",
    "        imgs,\n",
    "        per_frame_counts,\n",
    "        pred_score,\n",
    "        interval=1000 / VIZ_FPS,\n",
    "        plot_score=PLOT_SCORE,\n",
    "    )\n"
   ]
  },
  {
   "cell_type": "code",
   "execution_count": 6,
   "metadata": {},
   "outputs": [],
   "source": [
    "def create_count_video(imgs, vid_fps, model_output):\n",
    "    (_, pred_score, within_period, per_frame_counts, _,) = model_output\n",
    "\n",
    "    # Debugging video showing scores, per-frame frequency prediction and\n",
    "    # within_period scores.\n",
    "    tmp_vid_location = os.path.join(TEMP_DIR, \"debug_video.mp4\")\n",
    "    if os.path.exists(tmp_vid_location):\n",
    "        os.remove(tmp_vid_location)\n",
    "    elif not os.path.exists(TEMP_DIR):\n",
    "        os.makedirs(TEMP_DIR)\n",
    "\n",
    "    repnet.create_count_video(\n",
    "        imgs,\n",
    "        per_frame_counts,\n",
    "        within_period,\n",
    "        score=pred_score,\n",
    "        fps=vid_fps,\n",
    "        output_file=tmp_vid_location,\n",
    "        delay=1000 / VIZ_FPS,\n",
    "        plot_count=True,\n",
    "        plot_within_period=True,\n",
    "        plot_score=True,\n",
    "    )\n",
    "    # repnet.show_video(tmp_vid_location)"
   ]
  },
  {
   "cell_type": "code",
   "execution_count": 7,
   "metadata": {},
   "outputs": [
    {
     "name": "stdout",
     "output_type": "stream",
     "text": [
      "Loading from:  ./model\\ckpt-88\n",
      "WARNING:tensorflow:AutoGraph could not transform <bound method ResnetPeriodEstimator.call of <repnet.ResnetPeriodEstimator object at 0x000001C1762E6888>> and will run it as-is.\n",
      "Please report this to the TensorFlow team. When filing the bug, set the verbosity to 10 (on Linux, `export AUTOGRAPH_VERBOSITY=10`) and attach the full output.\n",
      "Cause: No module named 'tensorflow_core.estimator'\n",
      "WARNING: AutoGraph could not transform <bound method ResnetPeriodEstimator.call of <repnet.ResnetPeriodEstimator object at 0x000001C1762E6888>> and will run it as-is.\n",
      "Please report this to the TensorFlow team. When filing the bug, set the verbosity to 10 (on Linux, `export AUTOGRAPH_VERBOSITY=10`) and attach the full output.\n",
      "Cause: No module named 'tensorflow_core.estimator'\n",
      "WARNING:tensorflow:AutoGraph could not transform <bound method TransformerLayer.call of <repnet.TransformerLayer object at 0x000001C176E344C8>> and will run it as-is.\n",
      "Please report this to the TensorFlow team. When filing the bug, set the verbosity to 10 (on Linux, `export AUTOGRAPH_VERBOSITY=10`) and attach the full output.\n",
      "Cause: No module named 'tensorflow_core.estimator'\n",
      "WARNING: AutoGraph could not transform <bound method TransformerLayer.call of <repnet.TransformerLayer object at 0x000001C176E344C8>> and will run it as-is.\n",
      "Please report this to the TensorFlow team. When filing the bug, set the verbosity to 10 (on Linux, `export AUTOGRAPH_VERBOSITY=10`) and attach the full output.\n",
      "Cause: No module named 'tensorflow_core.estimator'\n",
      "WARNING:tensorflow:AutoGraph could not transform <bound method MultiHeadAttention.call of <repnet.MultiHeadAttention object at 0x000001C176E348C8>> and will run it as-is.\n",
      "Please report this to the TensorFlow team. When filing the bug, set the verbosity to 10 (on Linux, `export AUTOGRAPH_VERBOSITY=10`) and attach the full output.\n",
      "Cause: No module named 'tensorflow_core.estimator'\n",
      "WARNING: AutoGraph could not transform <bound method MultiHeadAttention.call of <repnet.MultiHeadAttention object at 0x000001C176E348C8>> and will run it as-is.\n",
      "Please report this to the TensorFlow team. When filing the bug, set the verbosity to 10 (on Linux, `export AUTOGRAPH_VERBOSITY=10`) and attach the full output.\n",
      "Cause: No module named 'tensorflow_core.estimator'\n",
      "WARNING:tensorflow:AutoGraph could not transform <bound method TransformerLayer.call of <repnet.TransformerLayer object at 0x000001C176E595C8>> and will run it as-is.\n",
      "Please report this to the TensorFlow team. When filing the bug, set the verbosity to 10 (on Linux, `export AUTOGRAPH_VERBOSITY=10`) and attach the full output.\n",
      "Cause: No module named 'tensorflow_core.estimator'\n",
      "WARNING: AutoGraph could not transform <bound method TransformerLayer.call of <repnet.TransformerLayer object at 0x000001C176E595C8>> and will run it as-is.\n",
      "Please report this to the TensorFlow team. When filing the bug, set the verbosity to 10 (on Linux, `export AUTOGRAPH_VERBOSITY=10`) and attach the full output.\n",
      "Cause: No module named 'tensorflow_core.estimator'\n",
      "WARNING:tensorflow:AutoGraph could not transform <bound method MultiHeadAttention.call of <repnet.MultiHeadAttention object at 0x000001C176E59948>> and will run it as-is.\n",
      "Please report this to the TensorFlow team. When filing the bug, set the verbosity to 10 (on Linux, `export AUTOGRAPH_VERBOSITY=10`) and attach the full output.\n",
      "Cause: No module named 'tensorflow_core.estimator'\n",
      "WARNING: AutoGraph could not transform <bound method MultiHeadAttention.call of <repnet.MultiHeadAttention object at 0x000001C176E59948>> and will run it as-is.\n",
      "Please report this to the TensorFlow team. When filing the bug, set the verbosity to 10 (on Linux, `export AUTOGRAPH_VERBOSITY=10`) and attach the full output.\n",
      "Cause: No module named 'tensorflow_core.estimator'\n",
      "WARNING:tensorflow:AutoGraph could not transform <bound method TransformerLayer.call of <repnet.TransformerLayer object at 0x000001C176E344C8>> and will run it as-is.\n",
      "Please report this to the TensorFlow team. When filing the bug, set the verbosity to 10 (on Linux, `export AUTOGRAPH_VERBOSITY=10`) and attach the full output.\n",
      "Cause: No module named 'tensorflow_core.estimator'\n",
      "WARNING: AutoGraph could not transform <bound method TransformerLayer.call of <repnet.TransformerLayer object at 0x000001C176E344C8>> and will run it as-is.\n",
      "Please report this to the TensorFlow team. When filing the bug, set the verbosity to 10 (on Linux, `export AUTOGRAPH_VERBOSITY=10`) and attach the full output.\n",
      "Cause: No module named 'tensorflow_core.estimator'\n",
      "WARNING:tensorflow:AutoGraph could not transform <bound method MultiHeadAttention.call of <repnet.MultiHeadAttention object at 0x000001C176E348C8>> and will run it as-is.\n",
      "Please report this to the TensorFlow team. When filing the bug, set the verbosity to 10 (on Linux, `export AUTOGRAPH_VERBOSITY=10`) and attach the full output.\n",
      "Cause: No module named 'tensorflow_core.estimator'\n",
      "WARNING: AutoGraph could not transform <bound method MultiHeadAttention.call of <repnet.MultiHeadAttention object at 0x000001C176E348C8>> and will run it as-is.\n",
      "Please report this to the TensorFlow team. When filing the bug, set the verbosity to 10 (on Linux, `export AUTOGRAPH_VERBOSITY=10`) and attach the full output.\n",
      "Cause: No module named 'tensorflow_core.estimator'\n",
      "WARNING:tensorflow:AutoGraph could not transform <bound method TransformerLayer.call of <repnet.TransformerLayer object at 0x000001C176E595C8>> and will run it as-is.\n",
      "Please report this to the TensorFlow team. When filing the bug, set the verbosity to 10 (on Linux, `export AUTOGRAPH_VERBOSITY=10`) and attach the full output.\n",
      "Cause: No module named 'tensorflow_core.estimator'\n",
      "WARNING: AutoGraph could not transform <bound method TransformerLayer.call of <repnet.TransformerLayer object at 0x000001C176E595C8>> and will run it as-is.\n",
      "Please report this to the TensorFlow team. When filing the bug, set the verbosity to 10 (on Linux, `export AUTOGRAPH_VERBOSITY=10`) and attach the full output.\n",
      "Cause: No module named 'tensorflow_core.estimator'\n",
      "WARNING:tensorflow:AutoGraph could not transform <bound method MultiHeadAttention.call of <repnet.MultiHeadAttention object at 0x000001C176E59948>> and will run it as-is.\n",
      "Please report this to the TensorFlow team. When filing the bug, set the verbosity to 10 (on Linux, `export AUTOGRAPH_VERBOSITY=10`) and attach the full output.\n",
      "Cause: No module named 'tensorflow_core.estimator'\n",
      "WARNING: AutoGraph could not transform <bound method MultiHeadAttention.call of <repnet.MultiHeadAttention object at 0x000001C176E59948>> and will run it as-is.\n",
      "Please report this to the TensorFlow team. When filing the bug, set the verbosity to 10 (on Linux, `export AUTOGRAPH_VERBOSITY=10`) and attach the full output.\n",
      "Cause: No module named 'tensorflow_core.estimator'\n"
     ]
    }
   ],
   "source": [
    "load_trained_repnet()\n",
    "model = repnet.get_repnet_model(PATH_TO_CKPT)"
   ]
  },
  {
   "cell_type": "code",
   "execution_count": 8,
   "metadata": {},
   "outputs": [],
   "source": [
    "if not os.path.exists(VIDEO_PATH):\n",
    "    print(\"Video does not exist\")\n",
    "    exit(1)\n",
    "imgs, vid_fps = repnet.read_video(VIDEO_PATH)"
   ]
  },
  {
   "cell_type": "code",
   "execution_count": 9,
   "metadata": {},
   "outputs": [
    {
     "name": "stdout",
     "output_type": "stream",
     "text": [
      "Running RepNet...\n",
      "WARNING:tensorflow:AutoGraph could not transform <bound method ResnetPeriodEstimator.preprocess of <tensorflow.python.eager.function.TfMethodTarget object at 0x000001C17C994C88>> and will run it as-is.\n",
      "Please report this to the TensorFlow team. When filing the bug, set the verbosity to 10 (on Linux, `export AUTOGRAPH_VERBOSITY=10`) and attach the full output.\n",
      "Cause: No module named 'tensorflow_core.estimator'\n",
      "WARNING: AutoGraph could not transform <bound method ResnetPeriodEstimator.preprocess of <tensorflow.python.eager.function.TfMethodTarget object at 0x000001C17C994C88>> and will run it as-is.\n",
      "Please report this to the TensorFlow team. When filing the bug, set the verbosity to 10 (on Linux, `export AUTOGRAPH_VERBOSITY=10`) and attach the full output.\n",
      "Cause: No module named 'tensorflow_core.estimator'\n",
      "WARNING:tensorflow:AutoGraph could not transform <bound method TransformerLayer.call of <repnet.TransformerLayer object at 0x000001C176E344C8>> and will run it as-is.\n",
      "Please report this to the TensorFlow team. When filing the bug, set the verbosity to 10 (on Linux, `export AUTOGRAPH_VERBOSITY=10`) and attach the full output.\n",
      "Cause: No module named 'tensorflow_core.estimator'\n",
      "WARNING: AutoGraph could not transform <bound method TransformerLayer.call of <repnet.TransformerLayer object at 0x000001C176E344C8>> and will run it as-is.\n",
      "Please report this to the TensorFlow team. When filing the bug, set the verbosity to 10 (on Linux, `export AUTOGRAPH_VERBOSITY=10`) and attach the full output.\n",
      "Cause: No module named 'tensorflow_core.estimator'\n",
      "WARNING:tensorflow:AutoGraph could not transform <bound method MultiHeadAttention.call of <repnet.MultiHeadAttention object at 0x000001C176E348C8>> and will run it as-is.\n",
      "Please report this to the TensorFlow team. When filing the bug, set the verbosity to 10 (on Linux, `export AUTOGRAPH_VERBOSITY=10`) and attach the full output.\n",
      "Cause: No module named 'tensorflow_core.estimator'\n",
      "WARNING: AutoGraph could not transform <bound method MultiHeadAttention.call of <repnet.MultiHeadAttention object at 0x000001C176E348C8>> and will run it as-is.\n",
      "Please report this to the TensorFlow team. When filing the bug, set the verbosity to 10 (on Linux, `export AUTOGRAPH_VERBOSITY=10`) and attach the full output.\n",
      "Cause: No module named 'tensorflow_core.estimator'\n",
      "WARNING:tensorflow:AutoGraph could not transform <bound method TransformerLayer.call of <repnet.TransformerLayer object at 0x000001C176E595C8>> and will run it as-is.\n",
      "Please report this to the TensorFlow team. When filing the bug, set the verbosity to 10 (on Linux, `export AUTOGRAPH_VERBOSITY=10`) and attach the full output.\n",
      "Cause: No module named 'tensorflow_core.estimator'\n",
      "WARNING: AutoGraph could not transform <bound method TransformerLayer.call of <repnet.TransformerLayer object at 0x000001C176E595C8>> and will run it as-is.\n",
      "Please report this to the TensorFlow team. When filing the bug, set the verbosity to 10 (on Linux, `export AUTOGRAPH_VERBOSITY=10`) and attach the full output.\n",
      "Cause: No module named 'tensorflow_core.estimator'\n",
      "WARNING:tensorflow:AutoGraph could not transform <bound method MultiHeadAttention.call of <repnet.MultiHeadAttention object at 0x000001C176E59948>> and will run it as-is.\n",
      "Please report this to the TensorFlow team. When filing the bug, set the verbosity to 10 (on Linux, `export AUTOGRAPH_VERBOSITY=10`) and attach the full output.\n",
      "Cause: No module named 'tensorflow_core.estimator'\n",
      "WARNING: AutoGraph could not transform <bound method MultiHeadAttention.call of <repnet.MultiHeadAttention object at 0x000001C176E59948>> and will run it as-is.\n",
      "Please report this to the TensorFlow team. When filing the bug, set the verbosity to 10 (on Linux, `export AUTOGRAPH_VERBOSITY=10`) and attach the full output.\n",
      "Cause: No module named 'tensorflow_core.estimator'\n"
     ]
    }
   ],
   "source": [
    "model_output = run_repnet(model, imgs)"
   ]
  },
  {
   "cell_type": "code",
   "execution_count": 14,
   "metadata": {},
   "outputs": [
    {
     "name": "stdout",
     "output_type": "stream",
     "text": [
      "Visualizing results...\n"
     ]
    }
   ],
   "source": [
    "visualise_results(imgs, model_output)"
   ]
  },
  {
   "cell_type": "code",
   "execution_count": 11,
   "metadata": {},
   "outputs": [],
   "source": [
    "create_count_video(imgs, vid_fps, model_output)"
   ]
  }
 ],
 "metadata": {
  "kernelspec": {
   "display_name": "Python 3.7.13 ('RepNet')",
   "language": "python",
   "name": "python3"
  },
  "language_info": {
   "codemirror_mode": {
    "name": "ipython",
    "version": 3
   },
   "file_extension": ".py",
   "mimetype": "text/x-python",
   "name": "python",
   "nbconvert_exporter": "python",
   "pygments_lexer": "ipython3",
   "version": "3.7.13"
  },
  "orig_nbformat": 4,
  "vscode": {
   "interpreter": {
    "hash": "9d2598cdd4c9ed4461ca0821605e1bcdfb98f2ed09c8520318a3f6037ec72d1e"
   }
  }
 },
 "nbformat": 4,
 "nbformat_minor": 2
}
